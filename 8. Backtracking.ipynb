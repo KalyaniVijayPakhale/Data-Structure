{
 "cells": [
  {
   "cell_type": "markdown",
   "metadata": {},
   "source": [
    "8. Backtracking"
   ]
  },
  {
   "cell_type": "markdown",
   "metadata": {},
   "source": [
    "Use Case: Problems involving permutations, combinations, or decision trees.\n",
    "\n",
    "Pattern: Explore all possibilities and backtrack when constraints are violated.\n",
    "\n",
    "Steps:\n",
    "\n",
    "Use recursion to explore solutions.\n",
    "\n",
    "Revert changes when moving back up the decision tree.\n",
    "\n",
    "Return or collect valid solutions.\n",
    "\n",
    "Example: Generate all permutations of an array."
   ]
  },
  {
   "cell_type": "code",
   "execution_count": 1,
   "metadata": {},
   "outputs": [],
   "source": [
    "def permutations(nums):\n",
    "    result = []\n",
    "    \n",
    "    def backtrack(path, remaining):\n",
    "        if not remaining:\n",
    "            result.append(path)\n",
    "            return\n",
    "        for i in range(len(remaining)):\n",
    "            backtrack(path + [remaining[i]], remaining[:i] + remaining[i+1:])\n",
    "    \n",
    "    backtrack([], nums)\n",
    "    return result"
   ]
  }
 ],
 "metadata": {
  "kernelspec": {
   "display_name": "Python 3",
   "language": "python",
   "name": "python3"
  },
  "language_info": {
   "codemirror_mode": {
    "name": "ipython",
    "version": 3
   },
   "file_extension": ".py",
   "mimetype": "text/x-python",
   "name": "python",
   "nbconvert_exporter": "python",
   "pygments_lexer": "ipython3",
   "version": "3.12.4"
  }
 },
 "nbformat": 4,
 "nbformat_minor": 2
}
