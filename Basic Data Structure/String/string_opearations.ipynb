{
 "cells": [
  {
   "cell_type": "code",
   "execution_count": 1,
   "metadata": {},
   "outputs": [],
   "source": [
    "# Substrings\n",
    "# Indexing\n",
    "# Concatenation\n",
    "# Length\n",
    "# Text Processing Operations\n",
    "# Insertion\n",
    "# Deletion\n",
    "# Replacing"
   ]
  },
  {
   "cell_type": "raw",
   "metadata": {
    "vscode": {
     "languageId": "raw"
    }
   },
   "source": [
    "- Name of the string.\n",
    "- Position of the first character of the substring in the given string.\n",
    "- length of the substring.\n",
    "\n",
    "Algorithm SUBSTRING (SUBSTR,STR,INITIAL,LENGTH)\n",
    "\n",
    "1. STRLEN=LENGTH(STR)\n",
    "2. If STRLEN < (INITIAL+LEN) Then Exit\n",
    "3. SET I=INITIAL AND J=0\n",
    "4. REPEAT STEPS 5 TO 7 WHILE J<LEN\n",
    "5.   SUBSTR[J]=STR[I]\n",
    "6.   J=J+1\n",
    "7.   I=I+1\n",
    "8. EXIT"
   ]
  },
  {
   "cell_type": "code",
   "execution_count": null,
   "metadata": {},
   "outputs": [],
   "source": [
    "def substring(sub, string, initial, length):\n",
    "    if len(string) < (initial + length):\n",
    "        return None\n",
    "    for i,j "
   ]
  }
 ],
 "metadata": {
  "kernelspec": {
   "display_name": "Python 3",
   "language": "python",
   "name": "python3"
  },
  "language_info": {
   "codemirror_mode": {
    "name": "ipython",
    "version": 3
   },
   "file_extension": ".py",
   "mimetype": "text/x-python",
   "name": "python",
   "nbconvert_exporter": "python",
   "pygments_lexer": "ipython3",
   "version": "3.12.4"
  }
 },
 "nbformat": 4,
 "nbformat_minor": 2
}
