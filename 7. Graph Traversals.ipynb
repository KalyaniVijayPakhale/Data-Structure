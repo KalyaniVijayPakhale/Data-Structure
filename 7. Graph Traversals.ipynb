{
 "cells": [
  {
   "cell_type": "markdown",
   "metadata": {},
   "source": [
    "7. Graph Traversals"
   ]
  },
  {
   "cell_type": "markdown",
   "metadata": {},
   "source": [
    "Use Case: Problems involving networks or connectivity.\n",
    "\n",
    "Pattern: Use Depth-First Search (DFS) or Breadth-First Search (BFS).\n",
    "\n",
    "Steps:\n",
    "\n",
    "Represent the graph using adjacency lists/matrix.\n",
    "\n",
    "Use a stack (DFS) or queue (BFS) to explore nodes.\n",
    "\n",
    "Mark visited nodes to avoid cycles.\n",
    "\n",
    "Example: Check if a path exists between two nodes in a graph."
   ]
  },
  {
   "cell_type": "code",
   "execution_count": 1,
   "metadata": {},
   "outputs": [],
   "source": [
    "from collections import deque\n",
    "\n",
    "def path_exists(graph, start, end):\n",
    "    queue = deque([start])\n",
    "    visited = set()\n",
    "    while queue:\n",
    "        node = queue.popleft()\n",
    "        if node == end:\n",
    "            return True\n",
    "        if node not in visited:\n",
    "            visited.add(node)\n",
    "            queue.extend(graph[node])\n",
    "    return False"
   ]
  }
 ],
 "metadata": {
  "kernelspec": {
   "display_name": "Python 3",
   "language": "python",
   "name": "python3"
  },
  "language_info": {
   "codemirror_mode": {
    "name": "ipython",
    "version": 3
   },
   "file_extension": ".py",
   "mimetype": "text/x-python",
   "name": "python",
   "nbconvert_exporter": "python",
   "pygments_lexer": "ipython3",
   "version": "3.12.4"
  }
 },
 "nbformat": 4,
 "nbformat_minor": 2
}
