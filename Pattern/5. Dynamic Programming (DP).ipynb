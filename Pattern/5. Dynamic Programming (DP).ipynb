{
 "cells": [
  {
   "cell_type": "markdown",
   "metadata": {
    "vscode": {
     "languageId": "plaintext"
    }
   },
   "source": [
    "5. Dynamic Programming (DP)"
   ]
  },
  {
   "cell_type": "markdown",
   "metadata": {},
   "source": [
    "Use Case: Problems involving overlapping subproblems, such as maximum/minimum sums, paths, or sequences.\n",
    "\n",
    "Pattern: Break the problem into smaller subproblems and use a table to store results.\n",
    "\n",
    "Steps:\n",
    "\n",
    "Define the state and the recurrence relation.\n",
    "\n",
    "Initialize a DP table (1D or 2D).\n",
    "\n",
    "Compute results iteratively or recursively using memoization.\n",
    "\n",
    "Example: Find the maximum sum of a subarray (Kadane’s Algorithm)."
   ]
  },
  {
   "cell_type": "code",
   "execution_count": 1,
   "metadata": {},
   "outputs": [],
   "source": [
    "def max_subarray_sum(nums):\n",
    "    max_sum = current_sum = nums[0]\n",
    "    for num in nums[1:]:\n",
    "        current_sum = max(num, current_sum + num)\n",
    "        max_sum = max(max_sum, current_sum)\n",
    "    return max_sum\n"
   ]
  }
 ],
 "metadata": {
  "kernelspec": {
   "display_name": "Python 3",
   "language": "python",
   "name": "python3"
  },
  "language_info": {
   "codemirror_mode": {
    "name": "ipython",
    "version": 3
   },
   "file_extension": ".py",
   "mimetype": "text/x-python",
   "name": "python",
   "nbconvert_exporter": "python",
   "pygments_lexer": "ipython3",
   "version": "3.12.4"
  }
 },
 "nbformat": 4,
 "nbformat_minor": 2
}
