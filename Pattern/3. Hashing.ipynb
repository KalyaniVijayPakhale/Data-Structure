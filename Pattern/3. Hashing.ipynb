{
 "cells": [
  {
   "cell_type": "markdown",
   "metadata": {},
   "source": [
    "3. Hashing"
   ]
  },
  {
   "cell_type": "markdown",
   "metadata": {},
   "source": [
    "Use Case: Problems involving fast lookups, duplicates, or counting elements.\n",
    "\n",
    "Pattern: Use hash tables (dictionaries) to store frequencies or indices for constant-time lookups.\n",
    "\n",
    "Steps:\n",
    "\n",
    "Iterate through the data structure.\n",
    "\n",
    "Use the hash table to store necessary information (e.g., counts, indices).\n",
    "\n",
    "Perform lookups or updates based on problem requirements.\n",
    "\n",
    "Example: Find the first duplicate element in an array."
   ]
  },
  {
   "cell_type": "code",
   "execution_count": 1,
   "metadata": {},
   "outputs": [],
   "source": [
    "def find_first_duplicate(nums):\n",
    "    seen = set()\n",
    "    for num in nums:\n",
    "        if num in seen:\n",
    "            return num\n",
    "        seen.add(num)\n",
    "    return -1\n"
   ]
  }
 ],
 "metadata": {
  "kernelspec": {
   "display_name": "Python 3",
   "language": "python",
   "name": "python3"
  },
  "language_info": {
   "codemirror_mode": {
    "name": "ipython",
    "version": 3
   },
   "file_extension": ".py",
   "mimetype": "text/x-python",
   "name": "python",
   "nbconvert_exporter": "python",
   "pygments_lexer": "ipython3",
   "version": "3.12.4"
  }
 },
 "nbformat": 4,
 "nbformat_minor": 2
}
