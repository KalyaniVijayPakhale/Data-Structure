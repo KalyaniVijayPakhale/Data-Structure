{
 "cells": [
  {
   "cell_type": "markdown",
   "metadata": {},
   "source": [
    "1. Sliding Window\n"
   ]
  },
  {
   "cell_type": "markdown",
   "metadata": {},
   "source": [
    "Use Case: Problems involving subarrays, substrings, or ranges with constraints (e.g., maximum sum, fixed length, unique elements).\n",
    "\n",
    "Pattern: Maintain a window of elements and slide it as you process the input.\n",
    "\n",
    "Steps:\n",
    "\n",
    "Use two pointers to define the window (start and end).\n",
    "\n",
    "Expand the window by moving the end pointer.\n",
    "\n",
    "Shrink the window if a condition is violated by moving the start pointer.\n",
    "\n",
    "Track the required result within the window.\n",
    "\n",
    "Example: Find the maximum sum of a subarray of size k."
   ]
  },
  {
   "cell_type": "code",
   "execution_count": 1,
   "metadata": {},
   "outputs": [],
   "source": [
    "def max_subarray_sum(nums, k):\n",
    "    max_sum, current_sum = 0, 0\n",
    "    start = 0\n",
    "    for end in range(len(nums)):\n",
    "        current_sum += nums[end]\n",
    "        if end - start + 1 == k:  # Window size matches k\n",
    "            max_sum = max(max_sum, current_sum)\n",
    "            current_sum -= nums[start]  # Slide the window\n",
    "            start += 1\n",
    "    return max_sum"
   ]
  },
  {
   "cell_type": "code",
   "execution_count": null,
   "metadata": {},
   "outputs": [],
   "source": []
  }
 ],
 "metadata": {
  "kernelspec": {
   "display_name": "Python 3",
   "language": "python",
   "name": "python3"
  },
  "language_info": {
   "codemirror_mode": {
    "name": "ipython",
    "version": 3
   },
   "file_extension": ".py",
   "mimetype": "text/x-python",
   "name": "python",
   "nbconvert_exporter": "python",
   "pygments_lexer": "ipython3",
   "version": "3.12.4"
  }
 },
 "nbformat": 4,
 "nbformat_minor": 2
}
