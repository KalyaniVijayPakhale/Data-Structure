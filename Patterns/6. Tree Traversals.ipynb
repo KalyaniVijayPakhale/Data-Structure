{
 "cells": [
  {
   "cell_type": "markdown",
   "metadata": {},
   "source": [
    "6. Tree Traversals"
   ]
  },
  {
   "cell_type": "markdown",
   "metadata": {},
   "source": [
    "Use Case: Problems involving binary trees (e.g., find height, path, or subtree values).\n",
    "\n",
    "Pattern: Use recursive or iterative traversals (preorder, inorder, postorder, level order).\n",
    "\n",
    "Steps:\n",
    "\n",
    "Start at the root.\n",
    "\n",
    "Traverse the tree based on the required order.\n",
    "\n",
    "Process nodes during traversal.\n",
    "\n",
    "Example: Find the height of a binary tree."
   ]
  },
  {
   "cell_type": "code",
   "execution_count": 1,
   "metadata": {},
   "outputs": [],
   "source": [
    "def tree_height(root):\n",
    "    if not root:\n",
    "        return 0\n",
    "    return 1 + max(tree_height(root.left), tree_height(root.right))"
   ]
  }
 ],
 "metadata": {
  "kernelspec": {
   "display_name": "Python 3",
   "language": "python",
   "name": "python3"
  },
  "language_info": {
   "codemirror_mode": {
    "name": "ipython",
    "version": 3
   },
   "file_extension": ".py",
   "mimetype": "text/x-python",
   "name": "python",
   "nbconvert_exporter": "python",
   "pygments_lexer": "ipython3",
   "version": "3.12.4"
  }
 },
 "nbformat": 4,
 "nbformat_minor": 2
}
