{
 "cells": [
  {
   "cell_type": "markdown",
   "metadata": {},
   "source": [
    "2. Two Pointers"
   ]
  },
  {
   "cell_type": "markdown",
   "metadata": {},
   "source": [
    "Use Case: Arrays or linked lists where you need to find pairs, triplets, or compare elements.\n",
    "\n",
    "Pattern: Use two pointers moving toward each other or in the same direction.\n",
    "\n",
    "Steps:\n",
    "\n",
    "Sort the array if needed.\n",
    "\n",
    "Use one pointer for iteration and another to complement conditions.\n",
    "\n",
    "Stop when conditions are met or pointers cross.\n",
    "\n",
    "Example: Find if a sorted array has a pair with a given sum."
   ]
  },
  {
   "cell_type": "code",
   "execution_count": 1,
   "metadata": {},
   "outputs": [],
   "source": [
    "def has_pair_with_sum(nums, target):\n",
    "    nums.sort()\n",
    "    left, right = 0, len(nums) - 1\n",
    "    while left < right:\n",
    "        current_sum = nums[left] + nums[right]\n",
    "        if current_sum == target:\n",
    "            return True\n",
    "        elif current_sum < target:\n",
    "            left += 1\n",
    "        else:\n",
    "            right -= 1\n",
    "    return False\n"
   ]
  }
 ],
 "metadata": {
  "kernelspec": {
   "display_name": "Python 3",
   "language": "python",
   "name": "python3"
  },
  "language_info": {
   "codemirror_mode": {
    "name": "ipython",
    "version": 3
   },
   "file_extension": ".py",
   "mimetype": "text/x-python",
   "name": "python",
   "nbconvert_exporter": "python",
   "pygments_lexer": "ipython3",
   "version": "3.12.4"
  }
 },
 "nbformat": 4,
 "nbformat_minor": 2
}
